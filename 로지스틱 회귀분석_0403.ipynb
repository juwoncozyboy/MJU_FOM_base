{
 "cells": [
  {
   "cell_type": "code",
   "execution_count": 2,
   "id": "10c38c9b",
   "metadata": {},
   "outputs": [],
   "source": [
    "import pandas as pd\n",
    "import numpy as np\n",
    "import matplotlib.pyplot as plt\n",
    "import seaborn as sns"
   ]
  },
  {
   "cell_type": "markdown",
   "id": "1a5e1a4c",
   "metadata": {},
   "source": [
    "1. 데이터 불러오기\n",
    "------------"
   ]
  },
  {
   "cell_type": "code",
   "execution_count": 12,
   "id": "917b3b68",
   "metadata": {
    "scrolled": false
   },
   "outputs": [
    {
     "name": "stdout",
     "output_type": "stream",
     "text": [
      "(887, 8)\n",
      "   Survived  Pclass                                               Name  \\\n",
      "0         0       3                             Mr. Owen Harris Braund   \n",
      "1         1       1  Mrs. John Bradley (Florence Briggs Thayer) Cum...   \n",
      "2         1       3                              Miss. Laina Heikkinen   \n",
      "3         1       1        Mrs. Jacques Heath (Lily May Peel) Futrelle   \n",
      "4         0       3                            Mr. William Henry Allen   \n",
      "\n",
      "      Sex   Age  Siblings/Spouses Aboard  Parents/Children Aboard     Fare  \n",
      "0    male  22.0                        1                        0   7.2500  \n",
      "1  female  38.0                        1                        0  71.2833  \n",
      "2  female  26.0                        0                        0   7.9250  \n",
      "3  female  35.0                        1                        0  53.1000  \n",
      "4    male  35.0                        0                        0   8.0500  \n"
     ]
    }
   ],
   "source": [
    "passengers = pd.read_csv('https://web.stanford.edu/class/archive/cs/cs109/cs109.1166/stuff/titanic.csv')\n",
    "passengers.head(3)\n",
    "print(passengers.shape)\n",
    "print(passengers.head())"
   ]
  },
  {
   "cell_type": "markdown",
   "id": "9c7eab04",
   "metadata": {},
   "source": [
    "2. 데이터 전처리하기\n",
    "------------"
   ]
  },
  {
   "cell_type": "code",
   "execution_count": 28,
   "id": "eb88cb5f",
   "metadata": {},
   "outputs": [],
   "source": [
    "passengers['Sex'] = passengers['Sex'].map({'female':1,'male':0})\n",
    "#여성이 살아남을 확률이 높을 것 같으니 남성을 0, 여성을 1로 지정"
   ]
  },
  {
   "cell_type": "code",
   "execution_count": 15,
   "id": "60e10e22",
   "metadata": {},
   "outputs": [],
   "source": [
    "passengers['Age'].fillna(value=passengers['Age'].mean(), inplace=True)\n",
    "#데이터를 보면 Age값이 비어있는 경우가 있다. 이 경우 평균값으로 대체"
   ]
  },
  {
   "cell_type": "code",
   "execution_count": 16,
   "id": "e411719b",
   "metadata": {},
   "outputs": [],
   "source": [
    "passengers['FirstClass'] = passengers['Pclass'].apply(lambda x: 1 if x == 1 else 0)\n",
    "passengers['SecondClass'] = passengers['Pclass'].apply(lambda x: 1 if x == 2 else 0)\n"
   ]
  },
  {
   "cell_type": "code",
   "execution_count": 29,
   "id": "ceea4145",
   "metadata": {},
   "outputs": [],
   "source": [
    "#Pclass의 경우 1등석,2등석 구분해주는 feature로 만들어주기위해 컬럼 새로 생성"
   ]
  },
  {
   "cell_type": "code",
   "execution_count": 17,
   "id": "aaf149e2",
   "metadata": {},
   "outputs": [],
   "source": [
    "features = passengers[['Sex', 'Age', 'FirstClass', 'SecondClass']]\n",
    "survival = passengers['Survived']"
   ]
  },
  {
   "cell_type": "markdown",
   "id": "682eccf0",
   "metadata": {},
   "source": [
    "3. 데이터 분리하기\n",
    "---------"
   ]
  },
  {
   "cell_type": "code",
   "execution_count": 18,
   "id": "0eec2334",
   "metadata": {},
   "outputs": [],
   "source": [
    "from sklearn.model_selection import train_test_split\n",
    "train_features, test_features, train_labels, test_labels = train_test_split(features, survival)"
   ]
  },
  {
   "cell_type": "markdown",
   "id": "db0e4655",
   "metadata": {},
   "source": [
    "\n",
    "4. 데이터 정규화(스케일링)하기\n",
    "-------"
   ]
  },
  {
   "cell_type": "code",
   "execution_count": 19,
   "id": "5cd767f7",
   "metadata": {},
   "outputs": [],
   "source": [
    "from sklearn.preprocessing import StandardScaler\n",
    "scaler = StandardScaler()\n",
    "train_features = scaler.fit_transform(train_features)\n",
    "test_features = scaler.transform(test_features)"
   ]
  },
  {
   "cell_type": "markdown",
   "id": "2dc7996b",
   "metadata": {},
   "source": [
    "5. 모델 생성 및 평가하기\n",
    "-------"
   ]
  },
  {
   "cell_type": "code",
   "execution_count": 20,
   "id": "695c4daa",
   "metadata": {},
   "outputs": [
    {
     "data": {
      "text/plain": [
       "LogisticRegression()"
      ]
     },
     "execution_count": 20,
     "metadata": {},
     "output_type": "execute_result"
    }
   ],
   "source": [
    "from sklearn.linear_model import LogisticRegression\n",
    "model = LogisticRegression()\n",
    "model.fit(train_features, train_labels)"
   ]
  },
  {
   "cell_type": "code",
   "execution_count": 30,
   "id": "3b8ed194",
   "metadata": {},
   "outputs": [],
   "source": [
    "#데이터 넣어주고 fit 해주면 끝"
   ]
  },
  {
   "cell_type": "code",
   "execution_count": 21,
   "id": "58e0f24b",
   "metadata": {},
   "outputs": [
    {
     "name": "stdout",
     "output_type": "stream",
     "text": [
      "0.7879699248120301\n"
     ]
    }
   ],
   "source": [
    "print(model.score(train_features, train_labels))"
   ]
  },
  {
   "cell_type": "code",
   "execution_count": 31,
   "id": "c57aa541",
   "metadata": {},
   "outputs": [],
   "source": [
    "#train data로 정확도를 찍어봤고, 79%정도 맞췄다고 한다."
   ]
  },
  {
   "cell_type": "code",
   "execution_count": 22,
   "id": "e0a0b2a1",
   "metadata": {
    "scrolled": true
   },
   "outputs": [
    {
     "name": "stdout",
     "output_type": "stream",
     "text": [
      "0.8108108108108109\n"
     ]
    }
   ],
   "source": [
    "print(model.score(test_features, test_labels))"
   ]
  },
  {
   "cell_type": "code",
   "execution_count": 32,
   "id": "9fbaaef0",
   "metadata": {},
   "outputs": [],
   "source": [
    "#test data에서도 확인해볼수 있다. 81% 정도 맞춤"
   ]
  },
  {
   "cell_type": "code",
   "execution_count": 23,
   "id": "0b95816a",
   "metadata": {
    "scrolled": true
   },
   "outputs": [
    {
     "name": "stdout",
     "output_type": "stream",
     "text": [
      "[[ 1.14967026 -0.50908962  1.10091587  0.53604533]]\n"
     ]
    }
   ],
   "source": [
    "print(model.coef_)"
   ]
  },
  {
   "cell_type": "code",
   "execution_count": 33,
   "id": "14866ea7",
   "metadata": {},
   "outputs": [],
   "source": [
    "#각 feature들의 계수(coefficient)를 확인해본다. 어떤 feature가 생존에 큰 영향을 주는가"
   ]
  },
  {
   "cell_type": "markdown",
   "id": "571fab17",
   "metadata": {},
   "source": [
    "5. 예측하기\n",
    "------"
   ]
  },
  {
   "cell_type": "code",
   "execution_count": 24,
   "id": "43bda818",
   "metadata": {},
   "outputs": [],
   "source": [
    "import numpy as np\n",
    "Jack = np.array([0.0, 20.0, 0.0, 0.0])\n",
    "Rose = np.array([1.0, 17.0, 1.0, 0.0])\n",
    "ME = np.array([0.0, 24.0, 1.0, 0.0])\n",
    "sample_passengers = np.array([Jack, Rose, ME])"
   ]
  },
  {
   "cell_type": "code",
   "execution_count": 35,
   "id": "9bdffdd2",
   "metadata": {},
   "outputs": [],
   "source": [
    "#새로운 데이터 (내 정보를 넣어보자)\n",
    "#24살 남자 1등석 탔다고 지정"
   ]
  },
  {
   "cell_type": "code",
   "execution_count": 25,
   "id": "bf71a833",
   "metadata": {
    "scrolled": true
   },
   "outputs": [
    {
     "name": "stderr",
     "output_type": "stream",
     "text": [
      "C:\\Users\\User\\anaconda3\\lib\\site-packages\\sklearn\\base.py:450: UserWarning: X does not have valid feature names, but StandardScaler was fitted with feature names\n",
      "  warnings.warn(\n"
     ]
    }
   ],
   "source": [
    "sample_passengers = scaler.transform(sample_passengers)"
   ]
  },
  {
   "cell_type": "code",
   "execution_count": 36,
   "id": "9617e540",
   "metadata": {},
   "outputs": [],
   "source": [
    "#스케일링 진행"
   ]
  },
  {
   "cell_type": "code",
   "execution_count": 37,
   "id": "e5aac3f3",
   "metadata": {},
   "outputs": [
    {
     "name": "stdout",
     "output_type": "stream",
     "text": [
      "[0 1 1]\n"
     ]
    }
   ],
   "source": [
    "print(model.predict(sample_passengers))"
   ]
  },
  {
   "cell_type": "code",
   "execution_count": 38,
   "id": "0260d63f",
   "metadata": {},
   "outputs": [],
   "source": [
    "#로즈와 나는 생존"
   ]
  },
  {
   "cell_type": "code",
   "execution_count": 27,
   "id": "87abff96",
   "metadata": {
    "scrolled": true
   },
   "outputs": [
    {
     "name": "stdout",
     "output_type": "stream",
     "text": [
      "[[0.88668044 0.11331956]\n",
      " [0.04617638 0.95382362]\n",
      " [0.40876255 0.59123745]]\n"
     ]
    }
   ],
   "source": [
    "print(model.predict_proba(sample_passengers))"
   ]
  },
  {
   "cell_type": "code",
   "execution_count": 39,
   "id": "c3975c9e",
   "metadata": {},
   "outputs": [],
   "source": [
    "#생존확률도 확인해 볼 수 있다. 60%정도 되기에 생존이라고 예측!!"
   ]
  },
  {
   "cell_type": "code",
   "execution_count": null,
   "id": "1d82c7bb",
   "metadata": {},
   "outputs": [],
   "source": []
  }
 ],
 "metadata": {
  "kernelspec": {
   "display_name": "Python 3 (ipykernel)",
   "language": "python",
   "name": "python3"
  },
  "language_info": {
   "codemirror_mode": {
    "name": "ipython",
    "version": 3
   },
   "file_extension": ".py",
   "mimetype": "text/x-python",
   "name": "python",
   "nbconvert_exporter": "python",
   "pygments_lexer": "ipython3",
   "version": "3.9.13"
  }
 },
 "nbformat": 4,
 "nbformat_minor": 5
}
